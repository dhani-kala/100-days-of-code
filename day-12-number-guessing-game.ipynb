{
 "cells": [
  {
   "cell_type": "markdown",
   "id": "21ddf80b-b231-4b28-96c9-cc21b0f74b62",
   "metadata": {},
   "source": [
    "# Simpler Version"
   ]
  },
  {
   "cell_type": "code",
   "execution_count": 29,
   "id": "a01f8d33-86f5-47dd-8002-64199f33e8c7",
   "metadata": {},
   "outputs": [
    {
     "name": "stdout",
     "output_type": "stream",
     "text": [
      "Welcome to the number guessing game!\n"
     ]
    },
    {
     "name": "stdin",
     "output_type": "stream",
     "text": [
      "Do you want to play the game? Type 'y' or 'n':  y\n"
     ]
    },
    {
     "name": "stdout",
     "output_type": "stream",
     "text": [
      "I'm thinking of a number between 1 and 100.\n"
     ]
    },
    {
     "name": "stdin",
     "output_type": "stream",
     "text": [
      "Choose a difficulty. Type 'easy', 'medium' or 'hard'. hard\n"
     ]
    },
    {
     "name": "stdout",
     "output_type": "stream",
     "text": [
      "You have 5 attempts remaining to guess the number.\n"
     ]
    },
    {
     "name": "stdin",
     "output_type": "stream",
     "text": [
      "Make a guess:  76\n"
     ]
    },
    {
     "name": "stdout",
     "output_type": "stream",
     "text": [
      "Too high.\n",
      "Guess again\n",
      "You have 4 attempts remaining to guess the number.\n"
     ]
    },
    {
     "name": "stdin",
     "output_type": "stream",
     "text": [
      "Make a guess:  43\n"
     ]
    },
    {
     "name": "stdout",
     "output_type": "stream",
     "text": [
      "Too low.\n",
      "Guess again\n",
      "You have 3 attempts remaining to guess the number.\n"
     ]
    },
    {
     "name": "stdin",
     "output_type": "stream",
     "text": [
      "Make a guess:  56\n"
     ]
    },
    {
     "name": "stdout",
     "output_type": "stream",
     "text": [
      "Too high.\n",
      "Guess again\n",
      "You have 2 attempts remaining to guess the number.\n"
     ]
    },
    {
     "name": "stdin",
     "output_type": "stream",
     "text": [
      "Make a guess:  49\n"
     ]
    },
    {
     "name": "stdout",
     "output_type": "stream",
     "text": [
      "Too low.\n",
      "Guess again\n",
      "You have 1 attempts remaining to guess the number.\n"
     ]
    },
    {
     "name": "stdin",
     "output_type": "stream",
     "text": [
      "Make a guess:  53\n"
     ]
    },
    {
     "name": "stdout",
     "output_type": "stream",
     "text": [
      "Too high.\n",
      "Guess again\n",
      "You've run out of guesses. You lose!\n",
      "The answer was 52.\n"
     ]
    },
    {
     "name": "stdin",
     "output_type": "stream",
     "text": [
      "Do you want to play again? Type 'y' or 'n'. n\n"
     ]
    },
    {
     "name": "stdout",
     "output_type": "stream",
     "text": [
      "Goodbye!\n"
     ]
    }
   ],
   "source": [
    "import random\n",
    "\n",
    "# Welcome\n",
    "print(\"Welcome to the number guessing game!\")\n",
    "# Play game prompt.\n",
    "if input(\"Do you want to play the game? Type 'y' or 'n': \") == 'y':\n",
    "    keep_playing = True\n",
    "else:\n",
    "    keep_playing = False\n",
    "    print(\"Goodbye!\")\n",
    "while keep_playing:\n",
    "    print(\"I'm thinking of a number between 1 and 100.\")\n",
    "    answer = random.randint(1, 100)\n",
    "    \n",
    "    # Choose a difficulty.\n",
    "    difficulty = input(\"Choose a difficulty. Type 'easy', 'medium' or 'hard'.\").lower()\n",
    "    \n",
    "    # Assign the attempts.\n",
    "    attempts = 0\n",
    "    if difficulty == 'easy':\n",
    "        attempts = 10\n",
    "    elif difficulty == 'hard':\n",
    "        attempts = 5\n",
    "    else:\n",
    "        attempts = 7\n",
    "    \n",
    "    game_on = True\n",
    "    \n",
    "    while game_on:\n",
    "        print(f\"You have {attempts} attempts remaining to guess the number.\")    # attempts remaining\n",
    "        # Make a guess\n",
    "        guess = int(input(\"Make a guess: \"))  \n",
    "        \n",
    "        # Too high / too low\n",
    "        if guess < answer:\n",
    "            print(\"Too low.\\nGuess again\")\n",
    "            attempts -= 1\n",
    "              # attempts remaining\n",
    "        elif guess > answer:\n",
    "            print(\"Too high.\\nGuess again\")\n",
    "            attempts -= 1 \n",
    "        elif guess == answer:\n",
    "            print(f\"You got it. The answer was {answer}.\")\n",
    "            game_on = False\n",
    "        if attempts == 0:\n",
    "            game_on = False\n",
    "            print(\"You've run out of guesses. You lose!\")\n",
    "            print(f\"The answer was {answer}.\")\n",
    "    if input(\"Do you want to play again? Type 'y' or 'n'.\") != 'y':\n",
    "        print(\"Goodbye!\")\n",
    "        keep_playing = False"
   ]
  }
 ],
 "metadata": {
  "kernelspec": {
   "display_name": "Python 3 (ipykernel)",
   "language": "python",
   "name": "python3"
  },
  "language_info": {
   "codemirror_mode": {
    "name": "ipython",
    "version": 3
   },
   "file_extension": ".py",
   "mimetype": "text/x-python",
   "name": "python",
   "nbconvert_exporter": "python",
   "pygments_lexer": "ipython3",
   "version": "3.8.10"
  }
 },
 "nbformat": 4,
 "nbformat_minor": 5
}
