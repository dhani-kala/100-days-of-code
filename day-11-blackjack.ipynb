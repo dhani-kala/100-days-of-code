{
 "cells": [
  {
   "cell_type": "code",
   "execution_count": 1,
   "id": "7417cdce",
   "metadata": {},
   "outputs": [
    {
     "name": "stdout",
     "output_type": "stream",
     "text": [
      "Do you want to play a game of Blackjack? Type 'y' or 'n': n\n"
     ]
    }
   ],
   "source": [
    "import random            \n",
    "\n",
    "def blackjack():\n",
    "    #define results\n",
    "    def results():\n",
    "        print(f\"Your final hand: {player_cards}, Final Score: {player_score}\")\n",
    "        print(f\"Computer's final hand: {computer_cards}, Final Score: {computer_score}\")\n",
    "        if player_score > 21:\n",
    "            print(\"You went over. You lose!\")\n",
    "        elif computer_score > 21:\n",
    "            print(\"Opponent went over. You win!\")\n",
    "        elif player_score == computer_score:\n",
    "            print(\"It's a draw!\")\n",
    "        elif computer_score <= 21:     \n",
    "            if player_score < computer_score:\n",
    "                print(\"You lose!\")\n",
    "            else:\n",
    "                print(\"You win!\")\n",
    "     \n",
    "    cards = [11, 2, 3, 4, 5, 6, 7, 8, 9, 10, 10, 10, 10]\n",
    "    player_cards = []\n",
    "    computer_cards = []\n",
    "    player_score = 0\n",
    "    computer_score = 0\n",
    "    play_game = input(\"Do you want to play a game of Blackjack? Type 'y' or 'n': \").lower()\n",
    "    game_over = False\n",
    "    if play_game != 'y':\n",
    "        game_over = True\n",
    "    while not game_over:\n",
    "        # Deal the player first 2 cards\n",
    "        for i in range(2):\n",
    "            player_cards.append(cards[random.randint(0, 12)])\n",
    "            player_score = sum(player_cards)\n",
    "        print(f\"Your cards: {player_cards}, Current Score: {player_score}\")\n",
    "        # Deal all of computer's cards\n",
    "        while computer_score < 18:\n",
    "            computer_cards.append(cards[random.randint(1, 12)])\n",
    "            computer_score = sum(computer_cards)\n",
    "        if (21 - player_score < 11) or (21 - computer_score < 11):\n",
    "            cards[0] = 1\n",
    "        print(f\"Computer's first card: {computer_cards[0]}\")\n",
    "        \n",
    "        # Ask if player wants another card\n",
    "        need_new_card = True\n",
    "        while need_new_card:\n",
    "            another_card = input(\"Type 'y' to get another card, 'n' to pass: \")\n",
    "            if another_card != 'y':\n",
    "                need_new_card = False\n",
    "                results()\n",
    "                blackjack()\n",
    "                \n",
    "            else:\n",
    "                player_cards.append(cards[random.randint(1, 12)])\n",
    "                player_score = sum(player_cards)\n",
    "                print(player_score)\n",
    "                if player_score > 21:\n",
    "                    results()\n",
    "                    blackjack()\n",
    "                else:\n",
    "                    print(f\"Your cards: {player_cards}, Current Score: {player_score}\")\n",
    "                    print(f\"Computer's first card: {computer_cards[0]}\")   \n",
    "                \n",
    "    else:\n",
    "        game_over\n",
    "        \n",
    "blackjack()"
   ]
  }
 ],
 "metadata": {
  "kernelspec": {
   "display_name": "Python 3 (ipykernel)",
   "language": "python",
   "name": "python3"
  },
  "language_info": {
   "codemirror_mode": {
    "name": "ipython",
    "version": 3
   },
   "file_extension": ".py",
   "mimetype": "text/x-python",
   "name": "python",
   "nbconvert_exporter": "python",
   "pygments_lexer": "ipython3",
   "version": "3.11.2"
  }
 },
 "nbformat": 4,
 "nbformat_minor": 5
}
